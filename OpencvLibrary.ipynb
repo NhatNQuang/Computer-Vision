{
 "cells": [
  {
   "cell_type": "markdown",
   "metadata": {},
   "source": [
    "# Giới thiệu thư viện OpenCV và các thao tác cơ bản"
   ]
  },
  {
   "cell_type": "markdown",
   "metadata": {},
   "source": [
    "## Các thao tác cơ bản\n",
    "1. Đọc ảnh: img = cv2.imread('path')\n",
    "2. In thông tin print(img)\n",
    "3. Kích thước ảnh: img.shape\n",
    "4. Hiển thị hình ảnh: cv2.imshow('title', img)\n",
    "5. Tạm dừng và chờ: cv2.waitkey(time - milliseconds)\n",
    "6. Hủy khung ảnh: cv2.destroyAllWindows() / cv2.destroyWindow()\n",
    "7. Lưu hình ảnh: cv2.imwrite('path', img)"
   ]
  },
  {
   "cell_type": "markdown",
   "metadata": {},
   "source": []
  },
  {
   "cell_type": "code",
   "execution_count": 1,
   "metadata": {},
   "outputs": [],
   "source": [
    "from library import *\n",
    "import cv2"
   ]
  },
  {
   "cell_type": "markdown",
   "metadata": {},
   "source": [
    "Build một function display"
   ]
  },
  {
   "cell_type": "code",
   "execution_count": 8,
   "metadata": {},
   "outputs": [],
   "source": [
    "def display(title, img):\n",
    "    cv2.imshow(title, img)\n",
    "    cv2.waitKey(0)\n",
    "    cv2.destroyWindow(title)"
   ]
  },
  {
   "cell_type": "code",
   "execution_count": null,
   "metadata": {},
   "outputs": [],
   "source": [
    "# Đọc một ảnh (nhấn TAB để nhìn autocomplete)\n",
    "img = cv2.imread(\"C:\\\\Users\\\\nguye\\\\OneDrive\\\\Pictures\\\\Camera Roll\\\\WIN_20240913_08_27_15_Pro.jpg\")\n",
    "\n",
    "# In thông tin của ảnh\n",
    "print(img)"
   ]
  },
  {
   "cell_type": "code",
   "execution_count": null,
   "metadata": {},
   "outputs": [],
   "source": [
    "# Lấy kích thước\n",
    "\n",
    "x,y,z = img.shape # with 3D image\n",
    "print(x, y, z)"
   ]
  },
  {
   "cell_type": "code",
   "execution_count": 4,
   "metadata": {},
   "outputs": [],
   "source": [
    "# Hiển thị ảnh\n",
    "cv2.imshow('Window', img) # tên cửa sổ là Window, cần đặt tên cửa sổ hiện ra\n",
    "\n",
    "# Chờ 1 khoảng thời gian\n",
    "cv2.waitKey(5000) # tính theo milliseconds\n",
    "\n",
    "# Đóng window\n",
    "cv2.destroyAllWindows()\n",
    "\n",
    "# hoặc\n",
    "cv2.destroyWindow('Window')"
   ]
  },
  {
   "cell_type": "markdown",
   "metadata": {},
   "source": [
    "TÁCH VÀ CHUYỂN ĐỔI HỆ MÀU CỦA ẢNH"
   ]
  },
  {
   "cell_type": "code",
   "execution_count": 3,
   "metadata": {},
   "outputs": [],
   "source": [
    "# Tách màu\n",
    "b ,g, r = cv2.split(img)\n",
    "cv2.imshow('Window', img)\n",
    "cv2.imshow('Blue', b)\n",
    "cv2.imshow('Green', g)\n",
    "cv2.imshow('Red', r)\n",
    "\n",
    "# chờ một khoảng thời gian\n",
    "cv2.waitKey(0) # nhấn phút bất kì để thực hiện lệnh tiếp theo\n",
    "\n",
    "# Đóng window\n",
    "cv2.destroyAllWindows()"
   ]
  },
  {
   "cell_type": "code",
   "execution_count": null,
   "metadata": {},
   "outputs": [],
   "source": [
    "# chuyển đổi hệ màu của ảnh\n",
    "gray_img = cv2.cvtColor(img, cv2.COLOR_BGR2GRAY)\n",
    "cv2.imshow('gray', gray_img)\n",
    "\n",
    "\n",
    "gray_img2 = cv2.cvtColor(img, cv2.COLOR_BGR2RGB)\n",
    "cv2.imshow('img2', gray_img2)\n",
    "\n",
    "cv2.waitKey(0)\n",
    "cv2.destroyAllWindows()"
   ]
  },
  {
   "cell_type": "code",
   "execution_count": 12,
   "metadata": {},
   "outputs": [],
   "source": [
    "# Thay đổi thông số của điểm ảnh\n",
    "height, width, z = img.shape\n",
    "quater_h = height/2\n",
    "quater_w = width/2\n",
    "\n",
    "# Green color\n",
    "green_color = (0,255,0)\n",
    "\n",
    "# Copy ảnh\n",
    "img2 = img.copy()\n",
    "\n",
    "# Thay đổi màu của góc 1/4 bên trái trên\n",
    "for y in range(int(quater_h)):\n",
    "    for x in range(int(quater_w)):\n",
    "        img2[y, x] = green_color\n",
    "\n",
    "# Hiển thị\n",
    "display('Window', img)\n",
    "display('Window2', img2)\n"
   ]
  },
  {
   "cell_type": "markdown",
   "metadata": {},
   "source": [
    "# Các hàm vẽ hình ảnh cơ bản"
   ]
  },
  {
   "cell_type": "markdown",
   "metadata": {},
   "source": [
    "LINE:\n",
    "cv2.line(image, start_point, end_point, color, thickness)\n",
    "\n",
    "RECTANGLE:\n",
    "cv2.rectangle(image, top_left_point, bottom_right_point, color, thickness)\n",
    "\n",
    "ELLIPSE:\n",
    "cv2.ellipse(image, center, axes, angle, start_angle, end_angle, color, thickness)\n",
    "\n",
    "POLYLINES: Vẽ đa giác trên hình ảnh (được sử dụng để vẽ các đường nối điểm)\n",
    "cv2.polylines(image, [array_of_points], is_closed, color, thickness)"
   ]
  },
  {
   "cell_type": "code",
   "execution_count": 14,
   "metadata": {},
   "outputs": [],
   "source": [
    "# Tạo một ảnh\n",
    "img3 = np.zeros((400, 400, 3), dtype=np.uint8)\n",
    "display('Image', img3)"
   ]
  },
  {
   "cell_type": "code",
   "execution_count": 15,
   "metadata": {},
   "outputs": [],
   "source": [
    "# Vẽ đường thẳng\n",
    "cv2.line(img3, (50, 50), (350, 50), (255,0,0), 2)\n",
    "display('Image', img3)"
   ]
  },
  {
   "cell_type": "code",
   "execution_count": 19,
   "metadata": {},
   "outputs": [],
   "source": [
    "# Vẽ đường tròn\n",
    "cv2.circle(img3, (100,100), 50, (0,255,0), -1) # -1 tô nội dung ở bên trong\n",
    "display('Image', img3)"
   ]
  },
  {
   "cell_type": "code",
   "execution_count": 21,
   "metadata": {},
   "outputs": [],
   "source": [
    "# Vẽ hình chữ nhật\n",
    "cv2.rectangle(img3, (100,100),(300,300), (255,0,255), -1)\n",
    "display('Image', img3)"
   ]
  },
  {
   "cell_type": "markdown",
   "metadata": {},
   "source": [
    "GHI TEXT TRÊN HÌNH ẢNH"
   ]
  },
  {
   "cell_type": "code",
   "execution_count": 25,
   "metadata": {},
   "outputs": [],
   "source": [
    "content = 'Nguyen Quang Nhat ne'\n",
    "font = cv2.FONT_HERSHEY_SCRIPT_COMPLEX\n",
    "cv2.putText(img3, content, (10, 380), font, 0.6, (255, 255, 200), 1) # 0,6: độ lớn 2: độ dày\n",
    "display('Image', img3)"
   ]
  },
  {
   "cell_type": "markdown",
   "metadata": {},
   "source": [
    "# THAO TÁC CƠ BẢN TRÊN VIDEO"
   ]
  },
  {
   "cell_type": "code",
   "execution_count": 31,
   "metadata": {},
   "outputs": [],
   "source": [
    "# Đọc video từ tệp\n",
    "video = cv2.VideoCapture(\"C:\\\\Users\\\\nguye\\\\Videos\\\\Screen Recordings\\\\Screen Recording 2024-09-19 004005.mp4\")"
   ]
  },
  {
   "cell_type": "code",
   "execution_count": 32,
   "metadata": {},
   "outputs": [],
   "source": [
    "# Tạo cửa sổ để hiển thị\n",
    "cv2.namedWindow('Video Player', cv2.WINDOW_NORMAL)"
   ]
  },
  {
   "cell_type": "code",
   "execution_count": 33,
   "metadata": {},
   "outputs": [],
   "source": [
    "\n",
    "font = cv2.FONT_HERSHEY_SCRIPT_COMPLEX\n",
    "font_scale = 10\n",
    "font_color = (255, 255, 200)\n",
    "font_thicknes = 2\n"
   ]
  },
  {
   "cell_type": "code",
   "execution_count": 34,
   "metadata": {},
   "outputs": [],
   "source": [
    "\n",
    "# Hiển thị từng khung Frame từ video\n",
    "while True:\n",
    "    # Thời gian trước khi đọc\n",
    "    start_time = time.time()\n",
    "\n",
    "    ret, frame = video.read()\n",
    "\n",
    "    # thoát khi không thể đọc được frame\n",
    "    if not ret:\n",
    "        break\n",
    "\n",
    "    # Thời gian sau khi đọc\n",
    "    end_time = time.time()\n",
    "\n",
    "    # Tính FPS\n",
    "    fps = 1/(end_time - start_time)\n",
    "    \n",
    "    # Ghi số lượng fps\n",
    "    cv2.putText(frame, f'FPS: {fps:.2f}', (20, 38), font, font_scale, font_color, font_thicknes) # 0,6: độ lớn 2: độ dày\n",
    "    \n",
    "\n",
    "    # Hiển thị\n",
    "    cv2.imshow('Video Player', frame)\n",
    "\n",
    "    if(cv2.waitKey(10)==ord('q')):\n",
    "        break\n",
    "\n"
   ]
  },
  {
   "cell_type": "code",
   "execution_count": 36,
   "metadata": {},
   "outputs": [],
   "source": [
    "# Hủy bỏ Player\n",
    "video.release\n",
    "cv2.destroyAllWindows()"
   ]
  }
 ],
 "metadata": {
  "kernelspec": {
   "display_name": "Python 3",
   "language": "python",
   "name": "python3"
  },
  "language_info": {
   "codemirror_mode": {
    "name": "ipython",
    "version": 3
   },
   "file_extension": ".py",
   "mimetype": "text/x-python",
   "name": "python",
   "nbconvert_exporter": "python",
   "pygments_lexer": "ipython3",
   "version": "3.12.4"
  }
 },
 "nbformat": 4,
 "nbformat_minor": 2
}
