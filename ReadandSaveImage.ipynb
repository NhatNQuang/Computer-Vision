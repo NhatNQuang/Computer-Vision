{
 "cells": [
  {
   "cell_type": "markdown",
   "metadata": {},
   "source": [
    "CÁCH ĐỌC VÀ LƯU HÌNH ẢNH"
   ]
  },
  {
   "cell_type": "code",
   "execution_count": 2,
   "metadata": {},
   "outputs": [],
   "source": [
    "import os"
   ]
  },
  {
   "cell_type": "code",
   "execution_count": 1,
   "metadata": {},
   "outputs": [],
   "source": [
    "from PIL import Image\n",
    "from imgtools import * # Using functions in imgtools file\n",
    "from IPython.display import display # to display images"
   ]
  },
  {
   "cell_type": "code",
   "execution_count": 4,
   "metadata": {},
   "outputs": [],
   "source": [
    "dir = os.path.normpath(\"C:\\\\Users\\\\nguye\\\\OneDrive\\\\Documents\\\\Nguyễn Quang Nhật\\\\Quang Nhat\")"
   ]
  },
  {
   "cell_type": "code",
   "execution_count": 5,
   "metadata": {},
   "outputs": [
    {
     "name": "stdout",
     "output_type": "stream",
     "text": [
      "C:\\Users\\nguye\\OneDrive\\Documents\\Nguyễn Quang Nhật\\Quang Nhat\\chan dung.jpg\n"
     ]
    }
   ],
   "source": [
    "# path to imgae\n",
    "image_path = os.path.normpath(dir + \"\\\\chan dung.jpg\")\n",
    "print(image_path)"
   ]
  },
  {
   "cell_type": "code",
   "execution_count": 6,
   "metadata": {},
   "outputs": [],
   "source": [
    "# Using Image.open() to read  image\n",
    "# Read by imgtools\n",
    "img01 = load_image(image_path)\n"
   ]
  },
  {
   "cell_type": "code",
   "execution_count": null,
   "metadata": {},
   "outputs": [],
   "source": [
    "# print detail inf about image\n",
    "print(\"Detail inf iss: \", img01.format)\n",
    "print(\"Detail inf iss: \", img01.size)\n",
    "\n"
   ]
  },
  {
   "cell_type": "code",
   "execution_count": null,
   "metadata": {},
   "outputs": [],
   "source": [
    "# Using Image.show() to show  image\n",
    "img01.show()"
   ]
  },
  {
   "cell_type": "code",
   "execution_count": null,
   "metadata": {},
   "outputs": [],
   "source": [
    "# save image with new name and new format\n",
    "new_img01_path = dir + '\\\\new01.jpg'\n",
    "new_img_png_path = dir + '\\\\new01.png'\n",
    "\n",
    "img01.save(new_img01_path)\n",
    "img01.save(new_img_png_path)"
   ]
  },
  {
   "cell_type": "markdown",
   "metadata": {},
   "source": [
    "CLOSE IMAGE"
   ]
  },
  {
   "cell_type": "code",
   "execution_count": 35,
   "metadata": {},
   "outputs": [],
   "source": [
    "img01.close()"
   ]
  },
  {
   "cell_type": "markdown",
   "metadata": {},
   "source": [
    "READ IMAGES FROM A FOLDER"
   ]
  },
  {
   "cell_type": "code",
   "execution_count": 3,
   "metadata": {},
   "outputs": [],
   "source": [
    "# the folder's path\n",
    "fd_path = \"C:\\\\Users\\\\nguye\\\\OneDrive\\\\Pictures\\\\Camera Roll\"\n",
    "fd_path2 = \"C:\\\\Users\\\\nguye\\\\OneDrive\\\\Documents\\\\Nguyễn Quang Nhật\\\\Certificate\""
   ]
  },
  {
   "cell_type": "code",
   "execution_count": 4,
   "metadata": {},
   "outputs": [],
   "source": [
    "# Read images\n",
    "imgs = get_image_list(fd_path)"
   ]
  },
  {
   "cell_type": "code",
   "execution_count": null,
   "metadata": {},
   "outputs": [],
   "source": [
    "for img in imgs:\n",
    "    print(img.size)\n",
    "    display(img)"
   ]
  },
  {
   "cell_type": "code",
   "execution_count": null,
   "metadata": {},
   "outputs": [],
   "source": []
  },
  {
   "cell_type": "code",
   "execution_count": null,
   "metadata": {},
   "outputs": [],
   "source": []
  },
  {
   "cell_type": "code",
   "execution_count": null,
   "metadata": {},
   "outputs": [],
   "source": []
  }
 ],
 "metadata": {
  "kernelspec": {
   "display_name": "Python 3",
   "language": "python",
   "name": "python3"
  },
  "language_info": {
   "codemirror_mode": {
    "name": "ipython",
    "version": 3
   },
   "file_extension": ".py",
   "mimetype": "text/x-python",
   "name": "python",
   "nbconvert_exporter": "python",
   "pygments_lexer": "ipython3",
   "version": "3.12.4"
  }
 },
 "nbformat": 4,
 "nbformat_minor": 2
}
