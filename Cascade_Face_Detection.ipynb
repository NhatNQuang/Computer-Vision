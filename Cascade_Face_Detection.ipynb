{
 "cells": [
  {
   "cell_type": "markdown",
   "metadata": {},
   "source": [
    "# Sử dụng OpenCV để phát hiện khuôn mặt"
   ]
  },
  {
   "cell_type": "markdown",
   "metadata": {},
   "source": [
    "### Sử dụng thuật toán Haar Cascade Classifier\n",
    "#### Để nhận diện đối tượng trong hình ảnh hoặc video, khuôn mặt, mắt, xe cộ và các đối tượng trong thời gian thực"
   ]
  },
  {
   "cell_type": "code",
   "execution_count": 2,
   "metadata": {},
   "outputs": [],
   "source": [
    "from library import *"
   ]
  },
  {
   "cell_type": "code",
   "execution_count": 28,
   "metadata": {},
   "outputs": [],
   "source": [
    "def display(title, img):\n",
    "    cv2.imshow(title, img)\n",
    "    cv2.waitKey(0)\n",
    "    cv2.destroyWindow(title)"
   ]
  },
  {
   "cell_type": "code",
   "execution_count": 32,
   "metadata": {},
   "outputs": [],
   "source": [
    "# Nhận diện face & eye\n",
    "def detect(img):\n",
    "    # Khởi tạo Haar Cascade Classifier cho nhận diện khuôn mặt\n",
    "    eyeglasses_detection = cv2.CascadeClassifier('./model/haarcascade_eye_tree_eyeglasses.xml')\n",
    "    face_detection = cv2.CascadeClassifier('./model/haarcascade_frontalface_default.xml')\n",
    "    \n",
    "    \n",
    "    # Chuyển sang ảnh xám\n",
    "    gray = cv2.cvtColor(img, cv2.COLOR_BGR2GRAY)\n",
    "\n",
    "    faces = face_detection.detectMultiScale(gray, scaleFactor=1.1, minNeighbors=5, minSize=(30,30)) #30,30 kích thước mặt\n",
    "    eyes = eyeglasses_detection.detectMultiScale(gray, scaleFactor=1.1, minNeighbors=5, minSize=(5,5))\n",
    "    \n",
    "    # Vẽ 1 khung chứa khuôn mặt\n",
    "    for (x, y, w, h) in faces:\n",
    "        cv2.rectangle(img, (x,y), (x+w, y+h), (255, 200, 240), 2)\n",
    "\n",
    "    # Vẽ 1 khung chứa mắt\n",
    "    for (x, y, w, h) in eyes:\n",
    "        cv2.rectangle(img, (x,y), (x+w, y+h), (255, 200, 240), 2)\n",
    "\n",
    "    # Trả về ảnh\n",
    "    return img"
   ]
  },
  {
   "cell_type": "code",
   "execution_count": 55,
   "metadata": {},
   "outputs": [],
   "source": [
    "# Nhận diện upperbody\n",
    "def detect_upperbody(img):\n",
    "    # Khởi tạo Haar Cascade Classifier cho nhận diện khuôn mặt\n",
    "    body_detection = cv2.CascadeClassifier('./model/haarcascade_upperbody.xml')\n",
    "    # Chuyển sang ảnh xám\n",
    "    gray = cv2.cvtColor(img, cv2.COLOR_BGR2GRAY)\n",
    "\n",
    "    bodies = body_detection.detectMultiScale(gray, scaleFactor=1.1, minNeighbors=5, minSize=(150,150)) #30,30 kích thước mặt\n",
    "    \n",
    "    # Vẽ 1 khung chứa khuôn mặt\n",
    "    for (x, y, w, h) in bodies:\n",
    "        cv2.rectangle(img, (x,y), (x+w, y+h), (255, 200, 240), 2)\n",
    "\n",
    "    # Trả về ảnh\n",
    "    return img"
   ]
  },
  {
   "cell_type": "code",
   "execution_count": 50,
   "metadata": {},
   "outputs": [],
   "source": [
    "# Nhận diện smile\n",
    "def detect_smile(img):\n",
    "    # Khởi tạo Haar Cascade Classifier cho nhận diện khuôn mặt\n",
    "    smile_detection = cv2.CascadeClassifier('./model/haarcascade_smile.xml')\n",
    "    # Chuyển sang ảnh xám\n",
    "    gray = cv2.cvtColor(img, cv2.COLOR_BGR2GRAY)\n",
    "\n",
    "    smile = smile_detection.detectMultiScale(gray, scaleFactor=1.1, minNeighbors=5, minSize=(30,30)) #30,30 kích thước mặt\n",
    "    \n",
    "    # Vẽ 1 khung chứa khuôn mặt\n",
    "    for (x, y, w, h) in smile:\n",
    "        cv2.rectangle(img, (x,y), (x+w, y+h), (255, 200, 240), 2)\n",
    "\n",
    "    # Trả về ảnh\n",
    "    return img"
   ]
  },
  {
   "cell_type": "markdown",
   "metadata": {},
   "source": [
    "#### Đối với ảnh Tĩnh"
   ]
  },
  {
   "cell_type": "code",
   "execution_count": null,
   "metadata": {},
   "outputs": [],
   "source": [
    "# Đọc ảnh tĩnh\n",
    "img1 = cv2.imread('./data/image_3.jpg')\n",
    "detect(img1)\n",
    "display('Image1', detect(img1))\n",
    "\n",
    "img = cv2.imread(\"./data/test.jpg\")\n",
    "detect(img)\n",
    "display('Image2', detect(img))"
   ]
  },
  {
   "cell_type": "markdown",
   "metadata": {},
   "source": [
    "### Đối với VIDEO/CAMERA"
   ]
  },
  {
   "cell_type": "code",
   "execution_count": 53,
   "metadata": {},
   "outputs": [],
   "source": [
    "# Đọc từ camera\n",
    "camera = cv2.VideoCapture(0)"
   ]
  },
  {
   "cell_type": "code",
   "execution_count": 37,
   "metadata": {},
   "outputs": [],
   "source": [
    "font = cv2.FONT_HERSHEY_SCRIPT_COMPLEX\n",
    "font_scale = 1\n",
    "font_color = (255, 255, 200)\n",
    "font_thicknes = 1"
   ]
  },
  {
   "cell_type": "code",
   "execution_count": 54,
   "metadata": {},
   "outputs": [],
   "source": [
    "# Tạo cửa sổ để hiển thị\n",
    "cv2.namedWindow('Video Player', cv2.WINDOW_NORMAL)\n",
    "# Hiển thị từng khung Frame từ video\n",
    "while True:\n",
    "    # Thời gian trước khi đọc\n",
    "    start_time = time.time()\n",
    "    ret, frame = camera.read() # đọc từ camera\n",
    "    # thoát khi không thể đọc được frame\n",
    "    if not ret:\n",
    "        break\n",
    "\n",
    "    # Thời gian sau khi đọc\n",
    "    end_time = time.time()\n",
    "\n",
    "    # Tính FPS\n",
    "    fps = 1/(end_time - start_time)\n",
    "    \n",
    "    # DECTECT FACE & EYE\n",
    "    frame = detect_smile(frame)\n",
    "    # DETECT UPPER BODY\n",
    "    frame = detect_upperbody(frame)\n",
    "    # DETECT SMILE\n",
    "    frame = detect_smile(frame)\n",
    "\n",
    "    # Ghi số lượng fps\n",
    "    cv2.putText(frame, f'FPS: {fps:.2f}', (30, 50), font, font_scale, font_color, font_thicknes) # 0,6: độ lớn 2: độ dày\n",
    "    \n",
    "    # Hiển thị\n",
    "    cv2.imshow('Video Player', frame)\n",
    "\n",
    "    if(cv2.waitKey(10)==ord('q')):\n",
    "        break\n",
    "\n",
    "# Hủy bỏ Player\n",
    "camera.release()\n",
    "cv2.destroyAllWindows()"
   ]
  }
 ],
 "metadata": {
  "kernelspec": {
   "display_name": "Python 3",
   "language": "python",
   "name": "python3"
  },
  "language_info": {
   "codemirror_mode": {
    "name": "ipython",
    "version": 3
   },
   "file_extension": ".py",
   "mimetype": "text/x-python",
   "name": "python",
   "nbconvert_exporter": "python",
   "pygments_lexer": "ipython3",
   "version": "3.12.4"
  }
 },
 "nbformat": 4,
 "nbformat_minor": 2
}
