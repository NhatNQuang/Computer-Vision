{
 "cells": [
  {
   "cell_type": "markdown",
   "metadata": {},
   "source": [
    "INTERACT WITH IMAGE"
   ]
  },
  {
   "cell_type": "code",
   "execution_count": 16,
   "metadata": {},
   "outputs": [],
   "source": [
    "from library import *"
   ]
  },
  {
   "cell_type": "code",
   "execution_count": 17,
   "metadata": {},
   "outputs": [],
   "source": [
    "img_origin = Image.open(\"C:\\\\Users\\\\nguye\\\\OneDrive\\\\Documents\\\\Nguyễn Quang Nhật\\\\Quang Nhat\\\\IMG_1043.JPG\")\n",
    "img = img_origin.transpose(Image.Transpose.ROTATE_90)\n",
    "\n",
    "plt.switch_backend('tkagg')"
   ]
  },
  {
   "cell_type": "code",
   "execution_count": null,
   "metadata": {},
   "outputs": [],
   "source": [
    "# Show imgae\n",
    "plt.imshow(img)\n",
    "plt.title(\"Click on the image to select points\")\n",
    "\n",
    "# Using function to choose POINTS on image\n",
    "points = plt.ginput(5) # choose 5 points\n",
    "print(points)\n",
    "\n",
    "plt.show()"
   ]
  },
  {
   "cell_type": "code",
   "execution_count": 19,
   "metadata": {},
   "outputs": [],
   "source": [
    "plt.close()\n",
    "plt.imshow(img)\n",
    "# Vẽ lại các điểm đã chọn bằng dấu * đỏ\n",
    "for point in points:\n",
    "    x, y = point\n",
    "    plt.plot(x,y, 'r*')\n",
    "\n",
    "plt.show()\n"
   ]
  },
  {
   "cell_type": "code",
   "execution_count": 20,
   "metadata": {},
   "outputs": [],
   "source": [
    "plt.close()"
   ]
  }
 ],
 "metadata": {
  "kernelspec": {
   "display_name": "Python 3",
   "language": "python",
   "name": "python3"
  },
  "language_info": {
   "codemirror_mode": {
    "name": "ipython",
    "version": 3
   },
   "file_extension": ".py",
   "mimetype": "text/x-python",
   "name": "python",
   "nbconvert_exporter": "python",
   "pygments_lexer": "ipython3",
   "version": "3.12.4"
  }
 },
 "nbformat": 4,
 "nbformat_minor": 2
}
