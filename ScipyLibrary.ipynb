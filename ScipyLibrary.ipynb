{
 "cells": [
  {
   "cell_type": "markdown",
   "metadata": {},
   "source": [
    "Giới thiệu thư viện Scipy"
   ]
  },
  {
   "cell_type": "markdown",
   "metadata": {},
   "source": [
    "Scipy là một thư viện mã nguồn mở của Python dùng cho tính toán khoa học và kỹ thuật\n",
    "-Được xây dựng trên Numpy"
   ]
  },
  {
   "cell_type": "code",
   "execution_count": 1,
   "metadata": {},
   "outputs": [],
   "source": [
    "from library import *"
   ]
  },
  {
   "cell_type": "markdown",
   "metadata": {},
   "source": [
    "Giải hệ phương trình"
   ]
  },
  {
   "cell_type": "code",
   "execution_count": 5,
   "metadata": {},
   "outputs": [
    {
     "name": "stdout",
     "output_type": "stream",
     "text": [
      "Kết quả:  [ 3. -1.]\n"
     ]
    }
   ],
   "source": [
    "# Giair hệ phương trình tuyến tính\n",
    "A = np.array([[2,1], [3, 2]])\n",
    "b = np.array([5, 7])\n",
    "\n",
    "# Giải\n",
    "x = linalg.solve(A, b)\n",
    "print(\"Kết quả: \", x)"
   ]
  },
  {
   "cell_type": "markdown",
   "metadata": {},
   "source": [
    "Tính tích phân của hàm số"
   ]
  },
  {
   "cell_type": "code",
   "execution_count": 6,
   "metadata": {},
   "outputs": [
    {
     "name": "stdout",
     "output_type": "stream",
     "text": [
      "Tích phân f(x) từ 0 đến 1:  (0.33333333333333337, 3.700743415417189e-15)\n"
     ]
    }
   ],
   "source": [
    "# Tính tích phân của 1 hàm số\n",
    "# Định nghĩa hàm f(x) = x^2\n",
    "def my_function(x):\n",
    "    return x**2\n",
    "\n",
    "# Tính tích phân của f(x) từ 0 đến 1\n",
    "integral = integrate.quad(my_function, 0, 1)\n",
    "print(\"Tích phân f(x) từ 0 đến 1: \", integral)\n"
   ]
  },
  {
   "cell_type": "markdown",
   "metadata": {},
   "source": [
    "TÍNH GIÁ TRỊ RIÊNG VÀ VECTOR RIÊNG CỦA MA TRẬN"
   ]
  },
  {
   "cell_type": "code",
   "execution_count": 7,
   "metadata": {},
   "outputs": [
    {
     "name": "stdout",
     "output_type": "stream",
     "text": [
      "EigenValues:  [3.73205081+0.j 0.26794919+0.j]\n",
      "EigenVectors:  [[ 0.5       -0.5      ]\n",
      " [ 0.8660254  0.8660254]]\n"
     ]
    }
   ],
   "source": [
    "A = np.array([[2,1], [3,2]])\n",
    "\n",
    "# Tính giá trị riêng, vector riêng\n",
    "evals, evecs = linalg.eig(A)\n",
    "\n",
    "print('EigenValues: ', evals)\n",
    "print('EigenVectors: ', evecs)\n"
   ]
  },
  {
   "cell_type": "code",
   "execution_count": null,
   "metadata": {},
   "outputs": [],
   "source": []
  },
  {
   "cell_type": "code",
   "execution_count": null,
   "metadata": {},
   "outputs": [],
   "source": []
  },
  {
   "cell_type": "code",
   "execution_count": null,
   "metadata": {},
   "outputs": [],
   "source": []
  },
  {
   "cell_type": "code",
   "execution_count": null,
   "metadata": {},
   "outputs": [],
   "source": []
  }
 ],
 "metadata": {
  "kernelspec": {
   "display_name": "Python 3",
   "language": "python",
   "name": "python3"
  },
  "language_info": {
   "codemirror_mode": {
    "name": "ipython",
    "version": 3
   },
   "file_extension": ".py",
   "mimetype": "text/x-python",
   "name": "python",
   "nbconvert_exporter": "python",
   "pygments_lexer": "ipython3",
   "version": "3.12.4"
  }
 },
 "nbformat": 4,
 "nbformat_minor": 2
}
