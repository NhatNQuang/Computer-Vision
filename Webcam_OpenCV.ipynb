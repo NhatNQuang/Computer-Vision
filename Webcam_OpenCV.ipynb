{
 "cells": [
  {
   "cell_type": "markdown",
   "metadata": {},
   "source": [
    "# Sử dụng OpenCV để lấy hình ảnh từ Webcam"
   ]
  },
  {
   "cell_type": "code",
   "execution_count": 1,
   "metadata": {},
   "outputs": [],
   "source": [
    "from library import *"
   ]
  },
  {
   "cell_type": "code",
   "execution_count": 2,
   "metadata": {},
   "outputs": [],
   "source": [
    "# Đọc từ Camera\n",
    "camera = cv2.VideoCapture(0) # 0: camera đầu tiên trong máy, tương tự 1 2 3"
   ]
  },
  {
   "cell_type": "code",
   "execution_count": 5,
   "metadata": {},
   "outputs": [],
   "source": [
    "font = cv2.FONT_HERSHEY_SCRIPT_COMPLEX\n",
    "font_scale = 1\n",
    "font_color = (255, 255, 200)\n",
    "font_thicknes = 1"
   ]
  },
  {
   "cell_type": "code",
   "execution_count": 6,
   "metadata": {},
   "outputs": [],
   "source": [
    "# Tạo cửa sổ để hiển thị\n",
    "cv2.namedWindow('Video Player', cv2.WINDOW_NORMAL)\n",
    "# Hiển thị từng khung Frame từ video\n",
    "while True:\n",
    "    # Thời gian trước khi đọc\n",
    "    start_time = time.time()\n",
    "\n",
    "    ret, frame = camera.read() # đọc từ camera\n",
    "\n",
    "    # thoát khi không thể đọc được frame\n",
    "    if not ret:\n",
    "        break\n",
    "\n",
    "    # Thời gian sau khi đọc\n",
    "    end_time = time.time()\n",
    "\n",
    "    # Tính FPS\n",
    "    fps = 1/(end_time - start_time)\n",
    "    \n",
    "    # Ghi số lượng fps\n",
    "    cv2.putText(frame, f'FPS: {fps:.2f}', (30, 50), font, font_scale, font_color, font_thicknes) # 0,6: độ lớn 2: độ dày\n",
    "    \n",
    "    # Hiển thị\n",
    "    cv2.imshow('Video Player', frame)\n",
    "\n",
    "    if(cv2.waitKey(10)==ord('q')):\n",
    "        break\n",
    "\n",
    "# Hủy bỏ Player\n",
    "camera.release\n",
    "cv2.destroyAllWindows()"
   ]
  },
  {
   "cell_type": "markdown",
   "metadata": {},
   "source": [
    "# Cứ 5 giây sẽ lưu hình ảnh xuống"
   ]
  },
  {
   "cell_type": "code",
   "execution_count": 50,
   "metadata": {},
   "outputs": [],
   "source": [
    "camera1 = cv2.VideoCapture(0) # 0: camera đầu tiên trong máy, tương tự 1 2 3"
   ]
  },
  {
   "cell_type": "code",
   "execution_count": 42,
   "metadata": {},
   "outputs": [],
   "source": [
    "font = cv2.FONT_HERSHEY_SCRIPT_COMPLEX\n",
    "font_scale = 1\n",
    "font_color = (255, 255, 200)\n",
    "font_thicknes = 1"
   ]
  },
  {
   "cell_type": "markdown",
   "metadata": {},
   "source": [
    "Cứ 5 khung hình sẽ lưu xuống 1 frame "
   ]
  },
  {
   "cell_type": "code",
   "execution_count": 43,
   "metadata": {},
   "outputs": [],
   "source": [
    "# Tạo cửa sổ để hiển thị\n",
    "cv2.namedWindow('Image Cpature', cv2.WINDOW_NORMAL)\n",
    "#\n",
    "intervel = 5 # 5 khung hình sẽ lưu xuống\n",
    "count = 0"
   ]
  },
  {
   "cell_type": "code",
   "execution_count": 44,
   "metadata": {},
   "outputs": [],
   "source": [
    "# Hiển thị từng khung Frame từ video\n",
    "while True:\n",
    "    # Thời gian trước khi đọc\n",
    "    start_time = time.time()\n",
    "    \n",
    "    ret, frame = camera1.read() # đọc từ camera\n",
    "    \n",
    "    # thoát khi không thể đọc được frame\n",
    "    if not ret:\n",
    "        break\n",
    "    # Thời gian sau khi đọc\n",
    "    end_time = time.time() \n",
    "\n",
    "    # tăng count + 1\n",
    "    count += 1\n",
    "\n",
    "    # Định kì lưu hình ảnh xuống\n",
    "    if(count%intervel==0):\n",
    "        cv2.imwrite(f'./data/image_{count}.jpg', frame)\n",
    "\n",
    "    # Tính FPS\n",
    "    fps = 1/(end_time - start_time)\n",
    "    \n",
    "    # Ghi số lượng fps\n",
    "    cv2.putText(frame, f'FPS: {fps:.2f}', (30, 50), font, font_scale, font_color, font_thicknes) # 0,6: độ lớn 2: độ dày\n",
    "    \n",
    "    # Hiển thị\n",
    "    cv2.imshow('Image Cpature', frame)\n",
    "\n",
    "    if(cv2.waitKey(10)==ord('q')):\n",
    "        break\n",
    "\n",
    "# Hủy bỏ Player\n",
    "camera1.release()\n",
    "cv2.destroyAllWindows()"
   ]
  },
  {
   "cell_type": "markdown",
   "metadata": {},
   "source": [
    "Cứ sau 5s sẽ lưu về 1 tấm ảnh"
   ]
  },
  {
   "cell_type": "code",
   "execution_count": 51,
   "metadata": {},
   "outputs": [
    {
     "name": "stdout",
     "output_type": "stream",
     "text": [
      "Lưu frame 1 tại 1734444991.16 giây\n",
      "Lưu frame 2 tại 1734444996.16 giây\n",
      "Lưu frame 3 tại 1734445001.17 giây\n"
     ]
    }
   ],
   "source": [
    "cv2.namedWindow('Image Cpature', cv2.WINDOW_NORMAL)\n",
    "start_time = time.time()\n",
    "count = 0\n",
    "# Hiển thị từng khung Frame từ video\n",
    "while True:    \n",
    "    ret, frame = camera1.read() # đọc từ camera\n",
    "    \n",
    "    # thoát khi không thể đọc được frame\n",
    "    if not ret:\n",
    "        break\n",
    "    # Thời gian sau khi đọc\n",
    "    current_time = time.time() \n",
    "\n",
    "    # Định kì lưu hình ảnh xuống\n",
    "    if(current_time - start_time >= 5):\n",
    "        count += 1\n",
    "        cv2.imwrite(f'./data/image_{count}.jpg', frame)\n",
    "        print(f\"Lưu frame {count} tại {current_time:.2f} giây\")\n",
    "\n",
    "        # Cập nhập lại thời gian bắt đầu\n",
    "        start_time = current_time\n",
    "\n",
    "    # Hiển thị\n",
    "    cv2.imshow('Image Cpature', frame)\n",
    "    if(cv2.waitKey(10)==ord('q')):\n",
    "        break\n",
    "\n",
    "# Hủy bỏ Player\n",
    "camera1.release()\n",
    "cv2.destroyAllWindows()\n"
   ]
  }
 ],
 "metadata": {
  "kernelspec": {
   "display_name": "Python 3",
   "language": "python",
   "name": "python3"
  },
  "language_info": {
   "codemirror_mode": {
    "name": "ipython",
    "version": 3
   },
   "file_extension": ".py",
   "mimetype": "text/x-python",
   "name": "python",
   "nbconvert_exporter": "python",
   "pygments_lexer": "ipython3",
   "version": "3.12.4"
  }
 },
 "nbformat": 4,
 "nbformat_minor": 2
}
